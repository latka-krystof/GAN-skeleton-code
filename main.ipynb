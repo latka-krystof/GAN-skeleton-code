{
 "cells": [
  {
   "cell_type": "code",
   "execution_count": null,
   "metadata": {},
   "outputs": [],
   "source": [
    "import torch\n",
    "import torchvision\n",
    "import numpy as np\n",
    "%matplotlib inline\n",
    "import matplotlib.pyplot as plt\n",
    "from tqdm.auto import tqdm"
   ]
  },
  {
   "cell_type": "code",
   "execution_count": null,
   "metadata": {},
   "outputs": [],
   "source": [
    "# import the dataset and loader from data_utils.py\n",
    "import data_utils\n",
    "image_folder_path = 'path/to/image/folder'\n",
    "desired_image_size = (64, 64)\n",
    "\n",
    "batch_size = 1\n",
    "# create a dataset so that dataset[i] returns the ith image\n",
    "dataset = data_utils.Dataset(image_folder_path, desired_image_size)\n",
    "# make a dataloader that returns the images as batches for parallel processing\n",
    "dataloader = torch.utils.data.DataLoader(dataset, batch_size)"
   ]
  },
  {
   "cell_type": "code",
   "execution_count": null,
   "metadata": {},
   "outputs": [],
   "source": [
    "# import the models from model.py\n",
    "import models\n",
    "generator = models.Generator()\n",
    "discriminator = models.Discriminator()"
   ]
  },
  {
   "cell_type": "code",
   "execution_count": null,
   "metadata": {},
   "outputs": [],
   "source": [
    "# use the gpu if available\n",
    "device = torch.device(\"cuda\" if torch.cuda.is_available() else \"cpu\")\n",
    "generator = generator.to(device)\n",
    "discriminator = discriminator.to(device)"
   ]
  },
  {
   "cell_type": "code",
   "execution_count": null,
   "metadata": {},
   "outputs": [],
   "source": [
    "# Initialize the loss function\n",
    "criterion = torch.nn.BCELoss()\n",
    "\n",
    "# Create batch of latent vectors that we will use to visualize the progression of the generator\n",
    "fixed_noise = torch.randn(64, 100, 1, 1, device=device)\n",
    "\n",
    "# Establish convention for real and fake labels during training\n",
    "real_label = 1.\n",
    "fake_label = 0.\n",
    "\n",
    "# set a learning rate\n",
    "lr = 0.1\n",
    "\n",
    "# Setup optimizers for both generator and discriminator\n",
    "optimizerD = torch.optim.AdamW(discriminator.parameters(), lr=lr)\n",
    "optimizerG = torch.optim.AdamW(generator.parameters(), lr=lr)"
   ]
  },
  {
   "cell_type": "code",
   "execution_count": null,
   "metadata": {},
   "outputs": [],
   "source": [
    "# functions that save and load the model and optimizer\n",
    "save_to = './checkpoints/model.pt'\n",
    "def save(path, generator, discriminator, optimizerG, optimizerD):\n",
    "    torch.save(\n",
    "        {\n",
    "            'generator_weights' : generator.state_dict(),\n",
    "            'discriminator_weights' : discriminator.state_dict(),\n",
    "            'generator_optimizer_weights' : optimizerG.state_dict(),\n",
    "            'discriminator_optimizer_weights' : optimizerD.state_dict(),\n",
    "        },\n",
    "        path\n",
    "    )\n",
    "\n",
    "def load(path):\n",
    "    # initialize \n",
    "    device = torch.device(\"cuda\" if torch.cuda.is_available() else \"cpu\")\n",
    "    checkpoint = torch.load(path)\n",
    "    generator = models.Generator().to(device)\n",
    "    discriminator = models.Discriminator().to(device)\n",
    "\n",
    "    optimizerD = torch.optim.Adam(generator.parameters(), lr=lr)\n",
    "    optimizerG = torch.optim.Adam(discriminator.parameters(), lr=lr)\n",
    "\n",
    "    generator.load_state_dict(checkpoint['generator_weights'])\n",
    "    discriminator.load_state_dict(checkpoint['discriminator_weights'])\n",
    "    optimizerG.load_state_dict(checkpoint['generator_optimizer_weights'])\n",
    "    optimizerD.load_state_dict(checkpoint['discriminator_optimizer_weights'])\n",
    "\n",
    "    return generator, discriminator, optimizerG, optimizerD"
   ]
  },
  {
   "cell_type": "code",
   "execution_count": null,
   "metadata": {},
   "outputs": [],
   "source": [
    "# create a loop to train the model\n",
    "\n",
    "num_epochs = 500\n",
    "\n",
    "generator.train()\n",
    "discriminator.train()\n",
    "\n",
    "for epoch in tqdm(range(1, 1+num_epochs)):\n",
    "    for i, data in enumerate(dataloader, 0):\n",
    "\n",
    "        ########################################################\n",
    "        # (1) Update D network: maximize log(D(x)) + log(1 - D(G(z)))\n",
    "        #######################################################\n",
    "        ## Train with all-real batch\n",
    "        # Format batch\n",
    "\n",
    "        # Forward pass real batch through D\n",
    "\n",
    "        # Calculate loss on all-real batch\n",
    "\n",
    "        # Calculate gradients for D in backward pass\n",
    "\n",
    "        ## Train with all-fake batch\n",
    "        # Generate batch of latent vectors\n",
    "\n",
    "        # Generate fake image batch with G\n",
    "\n",
    "        # Classify all fake batch with D\n",
    "\n",
    "        # Calculate D's loss on the all-fake batch\n",
    "\n",
    "        # Calculate the gradients for this batch, accumulated (summed) with previous gradients\n",
    "\n",
    "        # Compute error of D as sum over the fake and the real batches\n",
    "\n",
    "        # Update D\n",
    "\n",
    "        ########################################################\n",
    "        # (2) Update G network: maximize log(D(G(z)))\n",
    "        #######################################################\n",
    "        \n",
    "        # Since we just updated D, perform another forward pass of all-fake batch through D\n",
    "\n",
    "        # Calculate G's loss based on this output\n",
    "\n",
    "        # Calculate gradients for G\n",
    "\n",
    "        # Update G\n",
    "\n",
    "        # # Output training stats\n",
    "       \n",
    "        # Save Losses for plotting later\n",
    "\n",
    "        # Check how the generator is doing by saving G's output on fixed_noise"
   ]
  },
  {
   "cell_type": "code",
   "execution_count": null,
   "metadata": {},
   "outputs": [],
   "source": [
    "# generate images from the model"
   ]
  }
 ],
 "metadata": {
  "language_info": {
   "name": "python"
  },
  "orig_nbformat": 4
 },
 "nbformat": 4,
 "nbformat_minor": 2
}
